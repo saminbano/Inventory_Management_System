{
 "cells": [
  {
   "cell_type": "code",
   "execution_count": 30,
   "id": "fa42d398",
   "metadata": {},
   "outputs": [
    {
     "name": "stdout",
     "output_type": "stream",
     "text": [
      "-------------Menu----------------\n",
      "2001 : cake |  20  |  200\n",
      "2002 : soda |  50  |  400\n",
      "2003 : biscuit |  70  |  560\n",
      "2004 : candy |  80  |  797\n",
      "2005 : wafers |  90  |  420\n",
      "2006 : coffee |  100  |  200\n",
      "----------------------------------\n",
      "enter name     :   saim khan\n",
      "enter gamil   :   saim@gmail.com\n",
      "enter phone   :   6754564587\n",
      "enter Id       :     2003\n",
      "enter quantity:     400\n",
      "---------------------------\n",
      "           Bill        \n",
      "Name                : biscuit\n",
      "price               : 70\n",
      "quantity            : 400\n",
      "GST                 :5%\n",
      "--------------------------\n",
      " Total_Amount paid   : 29400.0\n",
      "---------------------------\n",
      "\n",
      "---------------------------------------------\n",
      "  Thanks for your order, Inventory Updated!  \n",
      "---------------------------------------------\n"
     ]
    }
   ],
   "source": [
    "# product details(id,name,price, quantity)\n",
    "import json\n",
    "import time\n",
    "#reading record file\n",
    "fd=open('record.json','r')\n",
    "js=fd.read()\n",
    "fd.close()\n",
    "\n",
    "#here loding js file \n",
    "record=json.loads(js)\n",
    "print(\"-------------Menu----------------\")\n",
    "for key in record.keys():\n",
    "    print(key, ':' , record[key]['Name'],  '| ',record[key]['price'],  ' | ', record[key]['Qn'])\n",
    "print(\"----------------------------------\")\n",
    "user_name=input(\"enter name     :   \")\n",
    "user_gmail=input(\"enter gamil   :   \")\n",
    "user_phone=input(\"enter phone   :   \")\n",
    "pd_id=str(input(\"enter Id       :     \"))\n",
    "pd_qt=int(input(\"enter quantity:     \"))\n",
    "print(\"---------------------------\")\n",
    "#Checking condition for equality dictionary id and user given input:\n",
    "if(record[pd_id]['Qn']>=pd_qt):\n",
    "            print(\"           Bill        \")\n",
    "            print(\"Name                :\",record[pd_id]['Name'])\n",
    "            print(\"price               :\",record[pd_id][\"price\"])\n",
    "            print(\"quantity            :\",pd_qt)\n",
    "            print(\"GST                 :5%\")\n",
    "            print(\"--------------------------\")\n",
    "            Ta= record[pd_id][\"price\"]*pd_qt\n",
    "            print(\" Total_Amount paid   :\",Ta+(0.05*Ta))\n",
    "            print(\"---------------------------\")\n",
    "            record[pd_id]['Qn']=record[pd_id]['Qn']-(pd_qt)\n",
    "            sale = user_name+\",\"+user_gmail+\",\"+user_phone+\",\"+pd_id+\",\"+record[pd_id][\"Name\"]+\",\"+str(pd_qt)+\",\"+str(record[pd_id]['price'])+\",\"+str(pd_qt * record[pd_id]['price'])+\",\"+time.ctime()+\"\\n\"\n",
    "# if our product having less quantity as compare to demand then asking user for giving full items as availaible in inventory system:\n",
    "\n",
    "else:\n",
    "    \n",
    "    print(\"Sorry, We're not having enough quanity of product in our Inventory.\")\n",
    "    print(\"We're only having \" + str(record[pd_id]['Qn']) + \" quantity.\")\n",
    "    print(\"---------------------------------------------\")\n",
    "    c=str(input(\"Press Y to purchase: \"))\n",
    "    \n",
    "    if( c== \"Y\" or c== 'y'):\n",
    "\n",
    "        print(\"---------------------------------------------\")\n",
    "        print(\"Name      : \", record[pd_id][\"Name\"])\n",
    "        print(\"Price (Rs): \", record[pd_id][\"price\"])\n",
    "        print(\"Quantity  : \", record[pd_id]['Qn'])\n",
    "        print(\"GST       :5%\")\n",
    "        print(\"---------------------------------------------\")\n",
    "        t=record[pd_id]['Qn'] * record[pd_id][\"price\"]\n",
    "        print(\"Billing   : \", t+(0.05*t), \"Rs\")\n",
    "        print(\"---------------------------------------------\")\n",
    "\n",
    "        record[pd_id]['Qn'] = 0\n",
    "        \n",
    "        sale = user_name+\",\"+user_gmail+\",\"+user_phone+\",\"+pd_id+\",\"+record[pd_id][\"Name\"]+\",\"+str(pd_qt)+\",\"+str(record[pd_id][\"price\"])+\",\"+str(record[pd_id]['Qn']  * record[pd_id][\"price\"])+\",\"+time.ctime()+\"\\n\"\n",
    "    else:\n",
    "        print(\"Thanks!\")\n",
    "        \n",
    "js = json.dumps(record)\n",
    "\n",
    "fd = open('Record.json','w')\n",
    "fd.write(js)\n",
    "fd.close()\n",
    "\n",
    "fd = open('Sales.txt','a')\n",
    "fd.write(sale)\n",
    "fd.close()\n",
    "\n",
    "print('')\n",
    "print(\"---------------------------------------------\")\n",
    "print(\"  Thanks for your order, Inventory Updated!  \")\n",
    "print(\"---------------------------------------------\")\n",
    "    "
   ]
  },
  {
   "cell_type": "code",
   "execution_count": 31,
   "id": "00b98826",
   "metadata": {},
   "outputs": [
    {
     "data": {
      "text/plain": [
       "{'2001': {'Name': 'cake', 'price': 20, 'Qn': 200},\n",
       " '2002': {'Name': 'soda', 'price': 50, 'Qn': 400},\n",
       " '2003': {'Name': 'biscuit', 'price': 70, 'Qn': 160},\n",
       " '2004': {'Name': 'candy', 'price': 80, 'Qn': 797},\n",
       " '2005': {'Name': 'wafers', 'price': 90, 'Qn': 420},\n",
       " '2006': {'Name': 'coffee', 'price': 100, 'Qn': 200}}"
      ]
     },
     "execution_count": 31,
     "metadata": {},
     "output_type": "execute_result"
    }
   ],
   "source": [
    "record"
   ]
  },
  {
   "cell_type": "code",
   "execution_count": null,
   "id": "20b8efc9",
   "metadata": {},
   "outputs": [],
   "source": []
  }
 ],
 "metadata": {
  "kernelspec": {
   "display_name": "Python 3 (ipykernel)",
   "language": "python",
   "name": "python3"
  },
  "language_info": {
   "codemirror_mode": {
    "name": "ipython",
    "version": 3
   },
   "file_extension": ".py",
   "mimetype": "text/x-python",
   "name": "python",
   "nbconvert_exporter": "python",
   "pygments_lexer": "ipython3",
   "version": "3.11.4"
  },
  "widgets": {
   "application/vnd.jupyter.widget-state+json": {
    "state": {},
    "version_major": 2,
    "version_minor": 0
   }
  }
 },
 "nbformat": 4,
 "nbformat_minor": 5
}
